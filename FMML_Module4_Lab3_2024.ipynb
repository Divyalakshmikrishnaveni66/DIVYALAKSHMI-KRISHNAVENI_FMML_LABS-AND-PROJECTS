{
  "nbformat": 4,
  "nbformat_minor": 0,
  "metadata": {
    "colab": {
      "provenance": [],
      "include_colab_link": true
    },
    "kernelspec": {
      "name": "python3",
      "display_name": "Python 3"
    },
    "language_info": {
      "name": "python"
    }
  },
  "cells": [
    {
      "cell_type": "markdown",
      "metadata": {
        "id": "view-in-github",
        "colab_type": "text"
      },
      "source": [
        "<a href=\"https://colab.research.google.com/github/Divyalakshmikrishnaveni66/DIVYALAKSHMI-KRISHNAVENI_FMML_LABS-AND-PROJECTS/blob/main/FMML_Module4_Lab3_2024.ipynb\" target=\"_parent\"><img src=\"https://colab.research.google.com/assets/colab-badge.svg\" alt=\"Open In Colab\"/></a>"
      ]
    },
    {
      "cell_type": "markdown",
      "source": [
        "# FOUNDATIONS OF MODERN MACHINE LEARNING, IIIT Hyderabad\n",
        "# Module 4: Perceptron and Gradient Descent\n",
        "## Lab 3: Gradient Descent\n",
        "\n",
        "Gradient descent is a very important algorithm to understand, as it underpins many of the more advanced algorithms used in Machine Learning and Deep Learning.\n",
        "\n",
        "A brief overview of the algorithm is\n",
        "\n",
        "\n",
        "*   start with a random initialization of the solution.\n",
        "*   incrementally change the solution by moving in the direction of negative gradient of the objective function.\n",
        "*   repeat the previous step until some convergence criteria is met.\n",
        "\n",
        "The key equation for change in weight is:\n",
        "$$w^{k+1} \\leftarrow w^k - \\eta \\Delta J$$\n",
        "\n",
        "In this lab, we will discuss stochastic gradient descent, mini-batch gradient descent and batch gradient descent.\n"
      ],
      "metadata": {
        "id": "XYxxkQg6xCjD"
      }
    },
    {
      "cell_type": "code",
      "metadata": {
        "id": "Fr-MnaGs7JmZ"
      },
      "source": [
        "import numpy as np\n",
        "import matplotlib.pyplot as plt"
      ],
      "execution_count": 1,
      "outputs": []
    },
    {
      "cell_type": "code",
      "metadata": {
        "id": "7ob_zZms7VOu"
      },
      "source": [
        "np.random.seed(42)"
      ],
      "execution_count": 2,
      "outputs": []
    },
    {
      "cell_type": "markdown",
      "metadata": {
        "id": "v4Kix4bcChiy"
      },
      "source": [
        "# Creating the Data\n",
        "\n",
        "Let's generate some data with:\n",
        "\\begin{equation} y_0= 4 \\end{equation}\n",
        "\\begin{equation} y_1= 3 \\end{equation}\n",
        "\n",
        "and also add some noise to the data."
      ]
    },
    {
      "cell_type": "code",
      "metadata": {
        "id": "MtAS7eFZ9hX6"
      },
      "source": [
        "X = 2 * np.random.rand(100, 1)\n",
        "y = 4 + 3 * X + np.random.randn(100, 1)"
      ],
      "execution_count": 20,
      "outputs": []
    },
    {
      "cell_type": "markdown",
      "metadata": {
        "id": "zD95NaF-CxM-"
      },
      "source": [
        "Let's also plot the data we just created"
      ]
    },
    {
      "cell_type": "code",
      "metadata": {
        "colab": {
          "base_uri": "https://localhost:8080/",
          "height": 0
        },
        "id": "3IiEP4BQ7Wja",
        "outputId": "0364056e-baaa-482f-bbdd-762590f3b11e"
      },
      "source": [
        "plt.plot(X, y, 'b.')\n",
        "plt.xlabel('x')\n",
        "plt.ylabel('y', rotation=0)"
      ],
      "execution_count": 21,
      "outputs": [
        {
          "output_type": "execute_result",
          "data": {
            "text/plain": [
              "Text(0, 0.5, 'y')"
            ]
          },
          "metadata": {},
          "execution_count": 21
        },
        {
          "output_type": "display_data",
          "data": {
            "text/plain": [
              "<Figure size 640x480 with 1 Axes>"
            ],
            "image/png": "[encoded data removed]"
          },
          "metadata": {}
        }
      ]
    },
    {
      "cell_type": "markdown",
      "metadata": {
        "id": "ScwxpouoDDyZ"
      },
      "source": [
        "## Cost Function\n",
        "\n",
        "The equation for calculating cost function is as shown below. The cost function is only for linear regression. For other algorithms, the cost function will be different and the gradients would have to be derived from the cost functions\n",
        "\n",
        "\\begin{equation}\n",
        "J(y_{pred}) = \\frac{1}{2} m \\sum_{i=1}^{m} (h(y_{pred})^{(i)} - y^{(i)})^2\n",
        "\\end{equation}"
      ]
    },
    {
      "cell_type": "code",
      "metadata": {
        "id": "PUeTUAXH7ZaV"
      },
      "source": [
        "def cal_cost(y_pred, X, y):\n",
        "    '''\n",
        "    Calculates the cost for given X and Y.\n",
        "    y_pred = Vector of y_preds\n",
        "    X = Row of X's np.zeros((2, j))\n",
        "    y = Actual y's np.zeros((2, 1))\n",
        "\n",
        "    where:\n",
        "        j is the no of features\n",
        "    '''\n",
        "\n",
        "    m = len(y)\n",
        "\n",
        "    predictions = X.dot(y_pred)\n",
        "    cost = (1 / 2 * m) * np.sum(np.square(predictions - y))\n",
        "\n",
        "    return cost"
      ],
      "execution_count": 22,
      "outputs": []
    },
    {
      "cell_type": "markdown",
      "metadata": {
        "id": "FcXqsVNpDbKC"
      },
      "source": [
        "## Gradients\n",
        "\n",
        "\\begin{equation}\n",
        "y_{pred_0}: = y_{pred_0} -\\alpha . (1/m .\\sum_{i=1}^{m}(h(y_{pred}^{(i)} - y^{(i)}).X_0^{(i)})\n",
        "\\end{equation}\n",
        "\\begin{equation}\n",
        "y_{pred_1}: = y_{pred_1} -\\alpha . (1/m .\\sum_{i=1}^{m}(h(y_{pred}^{(i)} - y^{(i)}).X_0^{(i)})\n",
        "\\end{equation}\n",
        ".\n",
        "\n",
        ".\n",
        "\n",
        ".\n",
        "\n",
        ".\n",
        "\n",
        "\\begin{equation}\n",
        "y_{pred_j}: = y_{pred_j} -\\alpha . (1/m .\\sum_{i=1}^{m}(h(y_{pred}^{(i)} - y^{(i)}).X_0^{(i)})\n",
        "\\end{equation}"
      ]
    },
    {
      "cell_type": "code",
      "metadata": {
        "id": "fwxBFXP88NBW"
      },
      "source": [
        "def gradient_descent(X, y, y_pred, learning_rate=0.01, iterations=100):\n",
        "    '''\n",
        "    X = Matrix of X with added bias units\n",
        "    y = Vector of Y\n",
        "    y_pred = Vector of y_preds np.random.randn(j, 1)\n",
        "    learning_rate\n",
        "    iterations = no of iterations\n",
        "\n",
        "    Returns the final y_pred vector and array of cost history over no of iterations\n",
        "    '''\n",
        "\n",
        "    m = len(y)\n",
        "    cost_history = np.zeros(iterations)\n",
        "    y_pred_history = np.zeros((iterations, 2))\n",
        "\n",
        "    for it in range(iterations):\n",
        "        prediction = np.dot(X, y_pred)\n",
        "        y_pred = y_pred - (1 / m) * learning_rate * (X.T.dot((prediction - y)))\n",
        "        y_pred_history[it,:] = y_pred.T\n",
        "        cost_history[it]  = cal_cost(y_pred, X, y)\n",
        "\n",
        "    return y_pred, cost_history, y_pred_history"
      ],
      "execution_count": 23,
      "outputs": []
    },
    {
      "cell_type": "markdown",
      "metadata": {
        "id": "1iSohSB2EtK1"
      },
      "source": [
        "Let's do 1000 iterations with a learning rate of 0.01.\n",
        "We will start with a random prediction."
      ]
    },
    {
      "cell_type": "code",
      "metadata": {
        "colab": {
          "base_uri": "https://localhost:8080/"
        },
        "id": "18AX7hrU8bv5",
        "outputId": "4ee269a3-4590-45e0-a810-746dac132da3"
      },
      "source": [
        "lr = 0.01\n",
        "n_iter = 1000\n",
        "\n",
        "y_pred = np.random.randn(2,1)\n",
        "X_b = np.c_[np.ones((len(X), 1)), X]\n",
        "y_pred, cost_history, y_pred_history = gradient_descent(X_b, y, y_pred, lr, n_iter)\n",
        "\n",
        "print('y_pred[0]: {:0.3f}\\ny_pred[1]: {:0.3f}'.format(y_pred[0][0], y_pred[1][0]))\n",
        "print('Final error: {:0.3f}'.format(cost_history[-1]))"
      ],
      "execution_count": 24,
      "outputs": [
        {
          "output_type": "stream",
          "name": "stdout",
          "text": [
            "y_pred[0]: 3.822\n",
            "y_pred[1]: 3.148\n",
            "Final error: 5954.494\n"
          ]
        }
      ]
    },
    {
      "cell_type": "markdown",
      "metadata": {
        "id": "m7fao2MaE216"
      },
      "source": [
        "Plotting the error vs Number of iterations"
      ]
    },
    {
      "cell_type": "code",
      "metadata": {
        "colab": {
          "base_uri": "https://localhost:8080/",
          "height": 0
        },
        "id": "DrkrAAbk8hIs",
        "outputId": "102663ff-443b-4701-eba5-c6caaaa53609"
      },
      "source": [
        "fig, ax = plt.subplots(figsize=(12,8))\n",
        "\n",
        "ax.set_ylabel('Error')\n",
        "ax.set_xlabel('Number of iterations')\n",
        "\n",
        "ax.plot(range(n_iter), cost_history, 'b.')"
      ],
      "execution_count": 25,
      "outputs": [
        {
          "output_type": "execute_result",
          "data": {
            "text/plain": [
              "[<matplotlib.lines.Line2D at 0x78524b765000>]"
            ]
          },
          "metadata": {},
          "execution_count": 25
        },
        {
          "output_type": "display_data",
          "data": {
            "text/plain": [
              "<Figure size 1200x800 with 1 Axes>"
            ],
            "image/png": "[encoded data removed]"
          },
          "metadata": {}
        }
      ]
    },
    {
      "cell_type": "markdown",
      "metadata": {
        "id": "IG5tWAy-FCaW"
      },
      "source": [
        "Zooming in..."
      ]
    },
    {
      "cell_type": "code",
      "metadata": {
        "colab": {
          "base_uri": "https://localhost:8080/",
          "height": 0
        },
        "id": "WZ7BoFHy8kTk",
        "outputId": "a96d3740-1e3e-48dc-cf97-844af897e5da"
      },
      "source": [
        "fig,ax = plt.subplots(figsize=(10,8))\n",
        "ax.plot(range(200), cost_history[:200], 'b.')"
      ],
      "execution_count": 26,
      "outputs": [
        {
          "output_type": "execute_result",
          "data": {
            "text/plain": [
              "[<matplotlib.lines.Line2D at 0x78524b73fdc0>]"
            ]
          },
          "metadata": {},
          "execution_count": 26
        },
        {
          "output_type": "display_data",
          "data": {
            "text/plain": [
              "<Figure size 1000x800 with 1 Axes>"
            ],
            "image/png": "[encoded data removed]"
          },
          "metadata": {}
        }
      ]
    },
    {
      "cell_type": "markdown",
      "metadata": {
        "id": "JYhOp3fjnh2G"
      },
      "source": [
        "# Stochastic Gradient Descent"
      ]
    },
    {
      "cell_type": "markdown",
      "source": [
        "In Batch Gradient Descent we were considering all the examples for every step of Gradient Descent. But what if our dataset is very huge. Deep learning models crave for data. The more the data the more chances of a model to be good. Suppose our dataset has 5 million examples, then just to take one step the model will have to calculate the gradients of all the 5 million examples. This does not seem an efficient way. To tackle this problem we have Stochastic Gradient Descent. In Stochastic Gradient Descent (SGD), we consider just one example at a time to take a single step."
      ],
      "metadata": {
        "id": "10N2dcwWUctJ"
      }
    },
    {
      "cell_type": "code",
      "metadata": {
        "id": "aVwD7Cqw8m1d"
      },
      "source": [
        "def stocashtic_gradient_descent(X, y, y_pred, learning_rate=0.01, iterations=10):\n",
        "    '''\n",
        "    X = Matrix of X with added bias units\n",
        "    y = Vector of Y\n",
        "    y_pred = Vector of y_pred np.random.randn(j,1)\n",
        "    learning_rate\n",
        "    iterations = no of iterations\n",
        "\n",
        "    Returns the final y_pred vector and array of cost history over no of iterations\n",
        "    '''\n",
        "\n",
        "    m = len(y)\n",
        "    cost_history = np.zeros(iterations)\n",
        "\n",
        "    for it in range(iterations):\n",
        "        cost = 0.0\n",
        "\n",
        "        for i in range(m):\n",
        "            rand_ind = np.random.randint(0,m)\n",
        "            X_i = X[rand_ind, :].reshape(1, X.shape[1])\n",
        "            y_i = y[rand_ind].reshape(1,1)\n",
        "            prediction = np.dot(X_i, y_pred)\n",
        "\n",
        "            y_pred = y_pred - (1 / m) * learning_rate *(X_i.T.dot((prediction - y_i)))\n",
        "            cost += cal_cost(y_pred, X_i, y_i)\n",
        "\n",
        "        cost_history[it]  = cost\n",
        "\n",
        "    return y_pred, cost_history"
      ],
      "execution_count": 27,
      "outputs": []
    },
    {
      "cell_type": "code",
      "metadata": {
        "colab": {
          "base_uri": "https://localhost:8080/"
        },
        "id": "Yk6pfB5c8tPz",
        "outputId": "210642fd-d2a9-4b9a-9ab4-4e112b928461"
      },
      "source": [
        "lr = 0.5\n",
        "n_iter = 50\n",
        "y_pred = np.random.randn(2, 1)\n",
        "X_b = np.c_[np.ones((len(X), 1)), X]\n",
        "y_pred, cost_history = stocashtic_gradient_descent(X_b, y, y_pred, lr, n_iter)\n",
        "\n",
        "print('y_pred[0]: {:0.3f}\\ny_pred[1]: {:0.3f}'.format(y_pred[0][0], y_pred[1][0]))\n",
        "print('Final error: {:0.3f}'.format(cost_history[-1]))"
      ],
      "execution_count": 28,
      "outputs": [
        {
          "output_type": "stream",
          "name": "stdout",
          "text": [
            "y_pred[0]: 3.776\n",
            "y_pred[1]: 3.068\n",
            "Final error: 65.932\n"
          ]
        }
      ]
    },
    {
      "cell_type": "code",
      "metadata": {
        "colab": {
          "base_uri": "https://localhost:8080/",
          "height": 715
        },
        "id": "YiJUgS7o8u2e",
        "outputId": "55f29268-d76c-4e96-b0e3-b3ef86551c37"
      },
      "source": [
        "fig, ax = plt.subplots(figsize=(10,8))\n",
        "\n",
        "ax.set_ylabel('Error')\n",
        "ax.set_xlabel('Number of iterations')\n",
        "y_pred = np.random.randn(2,1)\n",
        "\n",
        "ax.plot(range(n_iter), cost_history, 'b.')"
      ],
      "execution_count": 29,
      "outputs": [
        {
          "output_type": "execute_result",
          "data": {
            "text/plain": [
              "[<matplotlib.lines.Line2D at 0x785247294700>]"
            ]
          },
          "metadata": {},
          "execution_count": 29
        },
        {
          "output_type": "display_data",
          "data": {
            "text/plain": [
              "<Figure size 1000x800 with 1 Axes>"
            ],
            "image/png": "[encoded data removed]"
          },
          "metadata": {}
        }
      ]
    },
    {
      "cell_type": "markdown",
      "metadata": {
        "id": "ScckWktynk1o"
      },
      "source": [
        "# Mini Batch Gradient Descent"
      ]
    },
    {
      "cell_type": "markdown",
      "source": [
        "We have seen the Batch Gradient Descent. We have also seen the Stochastic Gradient Descent. Batch Gradient Descent can be used for smoother curves. SGD can be used when the dataset is large. Batch Gradient Descent converges directly to minima. SGD converges faster for larger datasets. But, since in SGD we use only one example at a time, we cannot implement the vectorized implementation on it. This can slow down the computations. To tackle this problem, a mixture of Batch Gradient Descent and SGD is used.\n",
        "Neither we use all the dataset all at once nor we use the single example at a time. We use a batch of a fixed number of training examples which is less than the actual dataset and call it a mini-batch. Doing this helps us achieve the advantages of both the former variants we saw."
      ],
      "metadata": {
        "id": "ZTVz-QssUkuE"
      }
    },
    {
      "cell_type": "code",
      "metadata": {
        "id": "4JtxFVL78wEm"
      },
      "source": [
        "def minibatch_gradient_descent(X, y, y_pred, learning_rate=0.01, iterations=10, batch_size=20):\n",
        "    '''\n",
        "    X = Matrix of X without added bias units\n",
        "    y = Vector of Y\n",
        "    y_pred = Vector of y_preds np.random.randn(j, 1)\n",
        "    learning_rate\n",
        "    iterations = no of iterations\n",
        "\n",
        "    Returns the final theta vector and array of cost history over no of iterations\n",
        "    '''\n",
        "\n",
        "    m = len(y)\n",
        "    cost_history = np.zeros(iterations)\n",
        "    n_batches = int(m / batch_size)\n",
        "\n",
        "    for it in range(iterations):\n",
        "        cost = 0.0\n",
        "        indices = np.random.permutation(m)\n",
        "        X = X[indices]\n",
        "        y = y[indices]\n",
        "\n",
        "        for i in range(0, m, batch_size):\n",
        "            X_i = X[i: i + batch_size]\n",
        "            y_i = y[i: i + batch_size]\n",
        "\n",
        "            X_i = np.c_[np.ones(len(X_i)), X_i]\n",
        "            prediction = np.dot(X_i, y_pred)\n",
        "\n",
        "            y_pred = y_pred - (1 / m) * learning_rate * (X_i.T.dot((prediction - y_i)))\n",
        "            cost += cal_cost(y_pred, X_i, y_i)\n",
        "\n",
        "        cost_history[it]  = cost\n",
        "\n",
        "    return y_pred, cost_history"
      ],
      "execution_count": 11,
      "outputs": []
    },
    {
      "cell_type": "code",
      "metadata": {
        "colab": {
          "base_uri": "https://localhost:8080/"
        },
        "id": "SpbsVwA28znL",
        "outputId": "34cceb62-f1a8-4382-ac92-6a49a8282eb0"
      },
      "source": [
        "lr = 0.1\n",
        "n_iter = 200\n",
        "y_pred = np.random.randn(2,1)\n",
        "y_pred, cost_history = minibatch_gradient_descent(X, y, y_pred, lr, n_iter)\n",
        "\n",
        "print('y_pred[0]: {:0.3f}\\ny_pred[1]: {:0.3f}'.format(y_pred[0][0], y_pred[1][0]))\n",
        "print('Final error: {:0.3f}'.format(cost_history[-1]))"
      ],
      "execution_count": 12,
      "outputs": [
        {
          "output_type": "stream",
          "name": "stdout",
          "text": [
            "y_pred[0]: 4.132\n",
            "y_pred[1]: 2.843\n",
            "Final error: 806.746\n"
          ]
        }
      ]
    },
    {
      "cell_type": "code",
      "metadata": {
        "colab": {
          "base_uri": "https://localhost:8080/",
          "height": 713
        },
        "id": "Q_ivOYHT817C",
        "outputId": "89b89abc-bf47-4973-efcf-367f37b35994"
      },
      "source": [
        "fig, ax = plt.subplots(figsize=(10,8))\n",
        "\n",
        "ax.set_ylabel('Error')\n",
        "ax.set_xlabel('Number of iterations')\n",
        "y_pred = np.random.randn(2,1)\n",
        "\n",
        "ax.plot(range(n_iter), cost_history, 'b.')"
      ],
      "execution_count": 13,
      "outputs": [
        {
          "output_type": "execute_result",
          "data": {
            "text/plain": [
              "[<matplotlib.lines.Line2D at 0x7852d4715d50>]"
            ]
          },
          "metadata": {},
          "execution_count": 13
        },
        {
          "output_type": "display_data",
          "data": {
            "text/plain": [
              "<Figure size 1000x800 with 1 Axes>"
            ],
            "image/png": "[encoded data removed]"
          },
          "metadata": {}
        }
      ]
    },
    {
      "cell_type": "code",
      "metadata": {
        "id": "3Sn1erIU83ck"
      },
      "source": [],
      "execution_count": 13,
      "outputs": []
    },
    {
      "cell_type": "markdown",
      "source": [
        "Things to try out:\n",
        "\n",
        "1. Change batch size in mini-batch gradient descent.\n",
        "2. Test all the three out on real datasets.\n",
        "3. Compare the effects of changing learning rate by the same amount in Batch GD, SGD and Mini-batch GD."
      ],
      "metadata": {
        "id": "0neTARjKUoP4"
      }
    },
    {
      "cell_type": "markdown",
      "source": [
        "In mini-batch gradient descent, the batch size refers to the number of training examples utilized in one iteration. Adjusting the batch size can have an impact on the training process and the convergence of the model. Here are some considerations when changing the batch size:\n",
        "\n",
        "Batch Size Selection:\n",
        "\n",
        "Larger batch sizes lead to faster convergence as more training examples are processed in each iteration. Smaller batch sizes provide a regularizing effect and can lead to a better generalization. Computational Efficiency:\n",
        "\n",
        "Larger batch sizes take advantage of parallel processing and can be more computationally efficient, especially on hardware with parallel capabilities (e.g., GPUs). Smaller batch sizes may lead to faster iterations but can be less computationally efficient. Memory Constraints:\n",
        "\n",
        "Larger batch sizes require more memory, which might be a constraint on certain hardware. Smaller batch sizes consume less memory but might lead to less efficient GPU utilization. Stochastic Gradient Descent (SGD) vs. Mini-Batch:\n",
        "\n",
        "A batch size of 1 corresponds to pure stochastic gradient descent (SGD). A batch size equal to the size of the entire dataset is known as batch gradient descent. Mini-batch sizes generally fall in between, providing a balance between the advantages of SGD and batch gradient descent. Impact on Convergence:\n",
        "\n",
        "The choice of batch size can affect the convergence behavior. Smaller batch sizes introduce more noise but may escape local minima, leading to better generalization. To change the batch size, you typically need to modify the code where the training loop is implemented. Ensure that the data is divided into batches of the desired size, and the gradient descent update is performed on each batch.\n",
        "\n",
        "Here's a simplified example in Python using a generic deep learning framework like TensorFlow or PyTorch:"
      ],
      "metadata": {
        "id": "4n3tmj-ySMfW"
      }
    },
    {
      "cell_type": "markdown",
      "source": [
        "ANS1:"
      ],
      "metadata": {
        "id": "bPWXPt1cVBHf"
      }
    },
    {
      "cell_type": "code",
      "source": [
        "import numpy as np\n",
        "\n",
        "def cal_cost(theta, X, y):\n",
        "    m = len(y)\n",
        "    cost = (1/2*m) * np.sum(np.square(np.dot(X, theta) - y))\n",
        "    return cost\n",
        "\n",
        "def minibatch_gradient_descent(X, y, y_pred, learning_rate=0.01, iterations=10, batch_size=20):\n",
        "    '''\n",
        "    X = Matrix of X without added bias units\n",
        "    y = Vector of Y\n",
        "    y_pred = Vector of y_preds np.random.randn(j, 1)\n",
        "    learning_rate\n",
        "    iterations = no of iterations\n",
        "\n",
        "    Returns the final theta vector and array of cost history over no of iterations\n",
        "    '''\n",
        "\n",
        "    m = len(y)\n",
        "    cost_history = np.zeros(iterations)\n",
        "    n_batches = int(m / batch_size)\n",
        "\n",
        "    for it in range(iterations):\n",
        "        cost = 0.0\n",
        "        indices = np.random.permutation(m)\n",
        "        X = X[indices]\n",
        "        y = y[indices]\n",
        "\n",
        "        for i in range(0, m, batch_size):\n",
        "            X_i = X[i: i + batch_size]\n",
        "            y_i = y[i: i + batch_size]\n",
        "\n",
        "            X_i = np.c_[np.ones(len(X_i)), X_i]\n",
        "            prediction = np.dot(X_i, y_pred)\n",
        "\n",
        "            y_pred = y_pred - (1 / m) * learning_rate * (X_i.T.dot((prediction - y_i)))\n",
        "            cost += cal_cost(y_pred, X_i, y_i)\n",
        "\n",
        "        cost_history[it]  = cost\n",
        "\n",
        "    return y_pred, cost_history"
      ],
      "metadata": {
        "id": "fYXRT3D0TSCS"
      },
      "execution_count": 15,
      "outputs": []
    },
    {
      "cell_type": "markdown",
      "source": [
        "ANS2:"
      ],
      "metadata": {
        "id": "eBr25WJ_U-ci"
      }
    },
    {
      "cell_type": "code",
      "source": [
        "\n",
        "\n",
        "\n",
        "import numpy as np\n",
        "import tensorflow as tf\n",
        "from sklearn.model_selection import train_test_split\n",
        "from sklearn.preprocessing import StandardScaler\n",
        "from sklearn.datasets import load_iris\n",
        "\n",
        "# Load the Iris dataset\n",
        "iris = load_iris()\n",
        "X = iris.data\n",
        "y = iris.target\n",
        "\n",
        "# Standardize the features\n",
        "scaler = StandardScaler()\n",
        "X = scaler.fit_transform(X)\n",
        "\n",
        "# Split the dataset into training and testing sets\n",
        "X_train, X_test, y_train, y_test = train_test_split(X, y, test_size=0.2, random_state=42)\n",
        "\n",
        "# Convert labels to one-hot encoding\n",
        "y_train = tf.keras.utils.to_categorical(y_train, num_classes=3)\n",
        "y_test = tf.keras.utils.to_categorical(y_test, num_classes=3)\n",
        "\n",
        "# Define a simple neural network\n",
        "model = tf.keras.Sequential([\n",
        "    tf.keras.layers.Dense(64, activation='relu', input_shape=(4,)),\n",
        "    tf.keras.layers.Dense(3, activation='softmax')\n",
        "])\n",
        "\n",
        "# Compile the model\n",
        "model.compile(optimizer='adam', loss='categorical_crossentropy', metrics=['accuracy'])\n",
        "\n",
        "# Train with full batch size\n",
        "model.fit(X_train, y_train, epochs=50, batch_size=len(X_train), validation_data=(X_test, y_test))\n",
        "print(\"Training accuracy with full batch size:\", model.evaluate(X_train, y_train, verbose=0)[1])\n",
        "print(\"Testing accuracy with full batch size:\", model.evaluate(X_test, y_test, verbose=0)[1])\n",
        "\n",
        "# Train with mini-batch size\n",
        "model.fit(X_train, y_train, epochs=50, batch_size=32, validation_data=(X_test, y_test))\n",
        "print(\"Training accuracy with mini-batch size:\", model.evaluate(X_train, y_train, verbose=0)[1])\n",
        "print(\"Testing accuracy with mini-batch size:\", model.evaluate(X_test, y_test, verbose=0)[1])\n",
        "\n",
        "# Train with stochastic gradient descent (batch size 1)\n",
        "model.fit(X_train, y_train, epochs=50, batch_size=1, validation_data=(X_test, y_test))\n",
        "print(\"Training accuracy with stochastic gradient descent:\", model.evaluate(X_train, y_train, verbose=0)[1])\n",
        "print(\"Testing accuracy with stochastic gradient descent:\", model.evaluate(X_test, y_test, verbose=0)[1])"
      ],
      "metadata": {
        "id": "ScS7udiNTzIT",
        "outputId": "207b0b42-55bf-4a6e-e97f-2dcdd1e4a5ba",
        "colab": {
          "base_uri": "https://localhost:8080/"
        }
      },
      "execution_count": 16,
      "outputs": [
        {
          "output_type": "stream",
          "name": "stdout",
          "text": [
            "Epoch 1/50\n",
            "1/1 [==============================] - 1s 1s/step - loss: 1.0255 - accuracy: 0.4500 - val_loss: 1.0088 - val_accuracy: 0.5000\n",
            "Epoch 2/50\n",
            "1/1 [==============================] - 0s 41ms/step - loss: 1.0087 - accuracy: 0.5000 - val_loss: 0.9906 - val_accuracy: 0.5333\n",
            "Epoch 3/50\n",
            "1/1 [==============================] - 0s 37ms/step - loss: 0.9923 - accuracy: 0.5333 - val_loss: 0.9728 - val_accuracy: 0.6333\n",
            "Epoch 4/50\n",
            "1/1 [==============================] - 0s 37ms/step - loss: 0.9761 - accuracy: 0.5583 - val_loss: 0.9552 - val_accuracy: 0.6333\n",
            "Epoch 5/50\n",
            "1/1 [==============================] - 0s 45ms/step - loss: 0.9601 - accuracy: 0.5917 - val_loss: 0.9380 - val_accuracy: 0.6667\n",
            "Epoch 6/50\n",
            "1/1 [==============================] - 0s 56ms/step - loss: 0.9445 - accuracy: 0.6167 - val_loss: 0.9211 - val_accuracy: 0.6667\n",
            "Epoch 7/50\n",
            "1/1 [==============================] - 0s 53ms/step - loss: 0.9292 - accuracy: 0.6417 - val_loss: 0.9046 - val_accuracy: 0.7667\n",
            "Epoch 8/50\n",
            "1/1 [==============================] - 0s 38ms/step - loss: 0.9141 - accuracy: 0.6750 - val_loss: 0.8884 - val_accuracy: 0.8000\n",
            "Epoch 9/50\n",
            "1/1 [==============================] - 0s 38ms/step - loss: 0.8994 - accuracy: 0.7000 - val_loss: 0.8725 - val_accuracy: 0.8000\n",
            "Epoch 10/50\n",
            "1/1 [==============================] - 0s 37ms/step - loss: 0.8849 - accuracy: 0.7333 - val_loss: 0.8569 - val_accuracy: 0.8333\n",
            "Epoch 11/50\n",
            "1/1 [==============================] - 0s 38ms/step - loss: 0.8708 - accuracy: 0.7333 - val_loss: 0.8416 - val_accuracy: 0.8333\n",
            "Epoch 12/50\n",
            "1/1 [==============================] - 0s 36ms/step - loss: 0.8570 - accuracy: 0.7667 - val_loss: 0.8267 - val_accuracy: 0.8333\n",
            "Epoch 13/50\n",
            "1/1 [==============================] - 0s 39ms/step - loss: 0.8434 - accuracy: 0.7750 - val_loss: 0.8121 - val_accuracy: 0.8333\n",
            "Epoch 14/50\n",
            "1/1 [==============================] - 0s 54ms/step - loss: 0.8302 - accuracy: 0.7917 - val_loss: 0.7978 - val_accuracy: 0.8333\n",
            "Epoch 15/50\n",
            "1/1 [==============================] - 0s 56ms/step - loss: 0.8172 - accuracy: 0.8000 - val_loss: 0.7837 - val_accuracy: 0.8333\n",
            "Epoch 16/50\n",
            "1/1 [==============================] - 0s 48ms/step - loss: 0.8045 - accuracy: 0.8000 - val_loss: 0.7700 - val_accuracy: 0.8333\n",
            "Epoch 17/50\n",
            "1/1 [==============================] - 0s 37ms/step - loss: 0.7921 - accuracy: 0.8000 - val_loss: 0.7566 - val_accuracy: 0.8333\n",
            "Epoch 18/50\n",
            "1/1 [==============================] - 0s 39ms/step - loss: 0.7800 - accuracy: 0.8083 - val_loss: 0.7436 - val_accuracy: 0.8333\n",
            "Epoch 19/50\n",
            "1/1 [==============================] - 0s 36ms/step - loss: 0.7681 - accuracy: 0.8083 - val_loss: 0.7308 - val_accuracy: 0.8333\n",
            "Epoch 20/50\n",
            "1/1 [==============================] - 0s 37ms/step - loss: 0.7566 - accuracy: 0.8083 - val_loss: 0.7184 - val_accuracy: 0.8333\n",
            "Epoch 21/50\n",
            "1/1 [==============================] - 0s 55ms/step - loss: 0.7452 - accuracy: 0.8167 - val_loss: 0.7062 - val_accuracy: 0.8667\n",
            "Epoch 22/50\n",
            "1/1 [==============================] - 0s 56ms/step - loss: 0.7342 - accuracy: 0.8250 - val_loss: 0.6943 - val_accuracy: 0.8667\n",
            "Epoch 23/50\n",
            "1/1 [==============================] - 0s 54ms/step - loss: 0.7234 - accuracy: 0.8250 - val_loss: 0.6827 - val_accuracy: 0.8667\n",
            "Epoch 24/50\n",
            "1/1 [==============================] - 0s 54ms/step - loss: 0.7129 - accuracy: 0.8250 - val_loss: 0.6714 - val_accuracy: 0.8667\n",
            "Epoch 25/50\n",
            "1/1 [==============================] - 0s 37ms/step - loss: 0.7026 - accuracy: 0.8333 - val_loss: 0.6603 - val_accuracy: 0.8667\n",
            "Epoch 26/50\n",
            "1/1 [==============================] - 0s 72ms/step - loss: 0.6926 - accuracy: 0.8333 - val_loss: 0.6494 - val_accuracy: 0.8667\n",
            "Epoch 27/50\n",
            "1/1 [==============================] - 0s 55ms/step - loss: 0.6828 - accuracy: 0.8333 - val_loss: 0.6389 - val_accuracy: 0.8667\n",
            "Epoch 28/50\n",
            "1/1 [==============================] - 0s 37ms/step - loss: 0.6733 - accuracy: 0.8333 - val_loss: 0.6285 - val_accuracy: 0.8667\n",
            "Epoch 29/50\n",
            "1/1 [==============================] - 0s 73ms/step - loss: 0.6640 - accuracy: 0.8417 - val_loss: 0.6185 - val_accuracy: 0.9000\n",
            "Epoch 30/50\n",
            "1/1 [==============================] - 0s 59ms/step - loss: 0.6549 - accuracy: 0.8417 - val_loss: 0.6087 - val_accuracy: 0.9000\n",
            "Epoch 31/50\n",
            "1/1 [==============================] - 0s 69ms/step - loss: 0.6461 - accuracy: 0.8417 - val_loss: 0.5992 - val_accuracy: 0.9000\n",
            "Epoch 32/50\n",
            "1/1 [==============================] - 0s 75ms/step - loss: 0.6376 - accuracy: 0.8417 - val_loss: 0.5899 - val_accuracy: 0.9000\n",
            "Epoch 33/50\n",
            "1/1 [==============================] - 0s 55ms/step - loss: 0.6292 - accuracy: 0.8417 - val_loss: 0.5808 - val_accuracy: 0.9000\n",
            "Epoch 34/50\n",
            "1/1 [==============================] - 0s 67ms/step - loss: 0.6211 - accuracy: 0.8417 - val_loss: 0.5719 - val_accuracy: 0.9000\n",
            "Epoch 35/50\n",
            "1/1 [==============================] - 0s 68ms/step - loss: 0.6132 - accuracy: 0.8333 - val_loss: 0.5633 - val_accuracy: 0.9000\n",
            "Epoch 36/50\n",
            "1/1 [==============================] - 0s 46ms/step - loss: 0.6055 - accuracy: 0.8333 - val_loss: 0.5549 - val_accuracy: 0.9000\n",
            "Epoch 37/50\n",
            "1/1 [==============================] - 0s 77ms/step - loss: 0.5980 - accuracy: 0.8333 - val_loss: 0.5468 - val_accuracy: 0.9000\n",
            "Epoch 38/50\n",
            "1/1 [==============================] - 0s 57ms/step - loss: 0.5907 - accuracy: 0.8333 - val_loss: 0.5388 - val_accuracy: 0.9000\n",
            "Epoch 39/50\n",
            "1/1 [==============================] - 0s 73ms/step - loss: 0.5836 - accuracy: 0.8333 - val_loss: 0.5310 - val_accuracy: 0.9000\n",
            "Epoch 40/50\n",
            "1/1 [==============================] - 0s 63ms/step - loss: 0.5767 - accuracy: 0.8333 - val_loss: 0.5235 - val_accuracy: 0.9000\n",
            "Epoch 41/50\n",
            "1/1 [==============================] - 0s 59ms/step - loss: 0.5699 - accuracy: 0.8333 - val_loss: 0.5161 - val_accuracy: 0.9000\n",
            "Epoch 42/50\n",
            "1/1 [==============================] - 0s 67ms/step - loss: 0.5634 - accuracy: 0.8333 - val_loss: 0.5089 - val_accuracy: 0.9000\n",
            "Epoch 43/50\n",
            "1/1 [==============================] - 0s 69ms/step - loss: 0.5570 - accuracy: 0.8417 - val_loss: 0.5019 - val_accuracy: 0.9000\n",
            "Epoch 44/50\n",
            "1/1 [==============================] - 0s 65ms/step - loss: 0.5507 - accuracy: 0.8417 - val_loss: 0.4951 - val_accuracy: 0.9000\n",
            "Epoch 45/50\n",
            "1/1 [==============================] - 0s 69ms/step - loss: 0.5446 - accuracy: 0.8417 - val_loss: 0.4885 - val_accuracy: 0.9000\n",
            "Epoch 46/50\n",
            "1/1 [==============================] - 0s 50ms/step - loss: 0.5387 - accuracy: 0.8417 - val_loss: 0.4820 - val_accuracy: 0.9000\n",
            "Epoch 47/50\n",
            "1/1 [==============================] - 0s 51ms/step - loss: 0.5329 - accuracy: 0.8417 - val_loss: 0.4757 - val_accuracy: 0.9000\n",
            "Epoch 48/50\n",
            "1/1 [==============================] - 0s 71ms/step - loss: 0.5272 - accuracy: 0.8417 - val_loss: 0.4696 - val_accuracy: 0.9000\n",
            "Epoch 49/50\n",
            "1/1 [==============================] - 0s 66ms/step - loss: 0.5216 - accuracy: 0.8417 - val_loss: 0.4636 - val_accuracy: 0.9000\n",
            "Epoch 50/50\n",
            "1/1 [==============================] - 0s 48ms/step - loss: 0.5162 - accuracy: 0.8417 - val_loss: 0.4578 - val_accuracy: 0.9000\n",
            "Training accuracy with full batch size: 0.8416666388511658\n",
            "Testing accuracy with full batch size: 0.8999999761581421\n",
            "Epoch 1/50\n",
            "4/4 [==============================] - 1s 49ms/step - loss: 0.5042 - accuracy: 0.8417 - val_loss: 0.4362 - val_accuracy: 0.9000\n",
            "Epoch 2/50\n",
            "4/4 [==============================] - 0s 23ms/step - loss: 0.4850 - accuracy: 0.8417 - val_loss: 0.4170 - val_accuracy: 0.9000\n",
            "Epoch 3/50\n",
            "4/4 [==============================] - 0s 17ms/step - loss: 0.4680 - accuracy: 0.8417 - val_loss: 0.3994 - val_accuracy: 0.9000\n",
            "Epoch 4/50\n",
            "4/4 [==============================] - 0s 22ms/step - loss: 0.4525 - accuracy: 0.8417 - val_loss: 0.3832 - val_accuracy: 0.9000\n",
            "Epoch 5/50\n",
            "4/4 [==============================] - 0s 17ms/step - loss: 0.4383 - accuracy: 0.8417 - val_loss: 0.3686 - val_accuracy: 0.9000\n",
            "Epoch 6/50\n",
            "4/4 [==============================] - 0s 21ms/step - loss: 0.4253 - accuracy: 0.8417 - val_loss: 0.3555 - val_accuracy: 0.9000\n",
            "Epoch 7/50\n",
            "4/4 [==============================] - 0s 16ms/step - loss: 0.4136 - accuracy: 0.8417 - val_loss: 0.3435 - val_accuracy: 0.9000\n",
            "Epoch 8/50\n",
            "4/4 [==============================] - 0s 15ms/step - loss: 0.4025 - accuracy: 0.8500 - val_loss: 0.3322 - val_accuracy: 0.9000\n",
            "Epoch 9/50\n",
            "4/4 [==============================] - 0s 23ms/step - loss: 0.3922 - accuracy: 0.8500 - val_loss: 0.3220 - val_accuracy: 0.9000\n",
            "Epoch 10/50\n",
            "4/4 [==============================] - 0s 22ms/step - loss: 0.3829 - accuracy: 0.8500 - val_loss: 0.3127 - val_accuracy: 0.9333\n",
            "Epoch 11/50\n",
            "4/4 [==============================] - 0s 22ms/step - loss: 0.3742 - accuracy: 0.8500 - val_loss: 0.3039 - val_accuracy: 0.9333\n",
            "Epoch 12/50\n",
            "4/4 [==============================] - 0s 25ms/step - loss: 0.3649 - accuracy: 0.8583 - val_loss: 0.2959 - val_accuracy: 0.9333\n",
            "Epoch 13/50\n",
            "4/4 [==============================] - 0s 24ms/step - loss: 0.3570 - accuracy: 0.8583 - val_loss: 0.2882 - val_accuracy: 0.9333\n",
            "Epoch 14/50\n",
            "4/4 [==============================] - 0s 16ms/step - loss: 0.3493 - accuracy: 0.8667 - val_loss: 0.2808 - val_accuracy: 0.9333\n",
            "Epoch 15/50\n",
            "4/4 [==============================] - 0s 11ms/step - loss: 0.3422 - accuracy: 0.8667 - val_loss: 0.2741 - val_accuracy: 0.9333\n",
            "Epoch 16/50\n",
            "4/4 [==============================] - 0s 12ms/step - loss: 0.3351 - accuracy: 0.8667 - val_loss: 0.2676 - val_accuracy: 0.9333\n",
            "Epoch 17/50\n",
            "4/4 [==============================] - 0s 12ms/step - loss: 0.3283 - accuracy: 0.8750 - val_loss: 0.2615 - val_accuracy: 0.9333\n",
            "Epoch 18/50\n",
            "4/4 [==============================] - 0s 12ms/step - loss: 0.3222 - accuracy: 0.8833 - val_loss: 0.2556 - val_accuracy: 0.9667\n",
            "Epoch 19/50\n",
            "4/4 [==============================] - 0s 12ms/step - loss: 0.3158 - accuracy: 0.8833 - val_loss: 0.2497 - val_accuracy: 0.9667\n",
            "Epoch 20/50\n",
            "4/4 [==============================] - 0s 11ms/step - loss: 0.3098 - accuracy: 0.8917 - val_loss: 0.2442 - val_accuracy: 0.9667\n",
            "Epoch 21/50\n",
            "4/4 [==============================] - 0s 12ms/step - loss: 0.3042 - accuracy: 0.8917 - val_loss: 0.2387 - val_accuracy: 0.9667\n",
            "Epoch 22/50\n",
            "4/4 [==============================] - 0s 11ms/step - loss: 0.2984 - accuracy: 0.9000 - val_loss: 0.2335 - val_accuracy: 0.9667\n",
            "Epoch 23/50\n",
            "4/4 [==============================] - 0s 11ms/step - loss: 0.2933 - accuracy: 0.9000 - val_loss: 0.2289 - val_accuracy: 0.9667\n",
            "Epoch 24/50\n",
            "4/4 [==============================] - 0s 11ms/step - loss: 0.2879 - accuracy: 0.9083 - val_loss: 0.2243 - val_accuracy: 0.9667\n",
            "Epoch 25/50\n",
            "4/4 [==============================] - 0s 12ms/step - loss: 0.2831 - accuracy: 0.9083 - val_loss: 0.2200 - val_accuracy: 0.9667\n",
            "Epoch 26/50\n",
            "4/4 [==============================] - 0s 11ms/step - loss: 0.2779 - accuracy: 0.9083 - val_loss: 0.2157 - val_accuracy: 0.9667\n",
            "Epoch 27/50\n",
            "4/4 [==============================] - 0s 11ms/step - loss: 0.2735 - accuracy: 0.9167 - val_loss: 0.2113 - val_accuracy: 0.9667\n",
            "Epoch 28/50\n",
            "4/4 [==============================] - 0s 12ms/step - loss: 0.2683 - accuracy: 0.9167 - val_loss: 0.2073 - val_accuracy: 0.9667\n",
            "Epoch 29/50\n",
            "4/4 [==============================] - 0s 16ms/step - loss: 0.2637 - accuracy: 0.9167 - val_loss: 0.2031 - val_accuracy: 0.9667\n",
            "Epoch 30/50\n",
            "4/4 [==============================] - 0s 11ms/step - loss: 0.2595 - accuracy: 0.9167 - val_loss: 0.1993 - val_accuracy: 0.9667\n",
            "Epoch 31/50\n",
            "4/4 [==============================] - 0s 18ms/step - loss: 0.2547 - accuracy: 0.9250 - val_loss: 0.1954 - val_accuracy: 0.9667\n",
            "Epoch 32/50\n",
            "4/4 [==============================] - 0s 11ms/step - loss: 0.2506 - accuracy: 0.9333 - val_loss: 0.1916 - val_accuracy: 0.9667\n",
            "Epoch 33/50\n",
            "4/4 [==============================] - 0s 11ms/step - loss: 0.2462 - accuracy: 0.9417 - val_loss: 0.1883 - val_accuracy: 0.9667\n",
            "Epoch 34/50\n",
            "4/4 [==============================] - 0s 11ms/step - loss: 0.2423 - accuracy: 0.9500 - val_loss: 0.1846 - val_accuracy: 0.9667\n",
            "Epoch 35/50\n",
            "4/4 [==============================] - 0s 12ms/step - loss: 0.2381 - accuracy: 0.9500 - val_loss: 0.1812 - val_accuracy: 0.9667\n",
            "Epoch 36/50\n",
            "4/4 [==============================] - 0s 11ms/step - loss: 0.2339 - accuracy: 0.9500 - val_loss: 0.1780 - val_accuracy: 0.9667\n",
            "Epoch 37/50\n",
            "4/4 [==============================] - 0s 13ms/step - loss: 0.2304 - accuracy: 0.9500 - val_loss: 0.1747 - val_accuracy: 0.9667\n",
            "Epoch 38/50\n",
            "4/4 [==============================] - 0s 12ms/step - loss: 0.2263 - accuracy: 0.9500 - val_loss: 0.1716 - val_accuracy: 0.9667\n",
            "Epoch 39/50\n",
            "4/4 [==============================] - 0s 11ms/step - loss: 0.2224 - accuracy: 0.9500 - val_loss: 0.1683 - val_accuracy: 0.9667\n",
            "Epoch 40/50\n",
            "4/4 [==============================] - 0s 11ms/step - loss: 0.2189 - accuracy: 0.9500 - val_loss: 0.1651 - val_accuracy: 0.9667\n",
            "Epoch 41/50\n",
            "4/4 [==============================] - 0s 11ms/step - loss: 0.2151 - accuracy: 0.9500 - val_loss: 0.1620 - val_accuracy: 0.9667\n",
            "Epoch 42/50\n",
            "4/4 [==============================] - 0s 11ms/step - loss: 0.2118 - accuracy: 0.9500 - val_loss: 0.1584 - val_accuracy: 0.9667\n",
            "Epoch 43/50\n",
            "4/4 [==============================] - 0s 12ms/step - loss: 0.2080 - accuracy: 0.9500 - val_loss: 0.1558 - val_accuracy: 0.9667\n",
            "Epoch 44/50\n",
            "4/4 [==============================] - 0s 11ms/step - loss: 0.2045 - accuracy: 0.9500 - val_loss: 0.1530 - val_accuracy: 0.9667\n",
            "Epoch 45/50\n",
            "4/4 [==============================] - 0s 11ms/step - loss: 0.2011 - accuracy: 0.9583 - val_loss: 0.1506 - val_accuracy: 0.9667\n",
            "Epoch 46/50\n",
            "4/4 [==============================] - 0s 11ms/step - loss: 0.1977 - accuracy: 0.9583 - val_loss: 0.1478 - val_accuracy: 0.9667\n",
            "Epoch 47/50\n",
            "4/4 [==============================] - 0s 11ms/step - loss: 0.1944 - accuracy: 0.9583 - val_loss: 0.1455 - val_accuracy: 0.9667\n",
            "Epoch 48/50\n",
            "4/4 [==============================] - 0s 11ms/step - loss: 0.1911 - accuracy: 0.9667 - val_loss: 0.1428 - val_accuracy: 0.9667\n",
            "Epoch 49/50\n",
            "4/4 [==============================] - 0s 14ms/step - loss: 0.1880 - accuracy: 0.9667 - val_loss: 0.1405 - val_accuracy: 0.9667\n",
            "Epoch 50/50\n",
            "4/4 [==============================] - 0s 11ms/step - loss: 0.1849 - accuracy: 0.9667 - val_loss: 0.1381 - val_accuracy: 0.9667\n",
            "Training accuracy with mini-batch size: 0.9666666388511658\n",
            "Testing accuracy with mini-batch size: 0.9666666388511658\n",
            "Epoch 1/50\n",
            "120/120 [==============================] - 0s 3ms/step - loss: 0.1813 - accuracy: 0.9417 - val_loss: 0.1246 - val_accuracy: 0.9667\n",
            "Epoch 2/50\n",
            "120/120 [==============================] - 0s 3ms/step - loss: 0.1453 - accuracy: 0.9583 - val_loss: 0.0934 - val_accuracy: 1.0000\n",
            "Epoch 3/50\n",
            "120/120 [==============================] - 0s 2ms/step - loss: 0.1301 - accuracy: 0.9667 - val_loss: 0.0849 - val_accuracy: 1.0000\n",
            "Epoch 4/50\n",
            "120/120 [==============================] - 0s 2ms/step - loss: 0.1197 - accuracy: 0.9667 - val_loss: 0.0703 - val_accuracy: 1.0000\n",
            "Epoch 5/50\n",
            "120/120 [==============================] - 0s 2ms/step - loss: 0.1132 - accuracy: 0.9583 - val_loss: 0.0712 - val_accuracy: 1.0000\n",
            "Epoch 6/50\n",
            "120/120 [==============================] - 0s 2ms/step - loss: 0.0989 - accuracy: 0.9667 - val_loss: 0.0651 - val_accuracy: 1.0000\n",
            "Epoch 7/50\n",
            "120/120 [==============================] - 0s 2ms/step - loss: 0.1003 - accuracy: 0.9500 - val_loss: 0.0618 - val_accuracy: 1.0000\n",
            "Epoch 8/50\n",
            "120/120 [==============================] - 0s 2ms/step - loss: 0.0927 - accuracy: 0.9667 - val_loss: 0.0575 - val_accuracy: 1.0000\n",
            "Epoch 9/50\n",
            "120/120 [==============================] - 0s 2ms/step - loss: 0.0878 - accuracy: 0.9750 - val_loss: 0.0561 - val_accuracy: 1.0000\n",
            "Epoch 10/50\n",
            "120/120 [==============================] - 0s 2ms/step - loss: 0.0812 - accuracy: 0.9583 - val_loss: 0.0540 - val_accuracy: 1.0000\n",
            "Epoch 11/50\n",
            "120/120 [==============================] - 0s 2ms/step - loss: 0.0806 - accuracy: 0.9583 - val_loss: 0.0500 - val_accuracy: 1.0000\n",
            "Epoch 12/50\n",
            "120/120 [==============================] - 0s 2ms/step - loss: 0.0792 - accuracy: 0.9750 - val_loss: 0.0613 - val_accuracy: 0.9667\n",
            "Epoch 13/50\n",
            "120/120 [==============================] - 0s 2ms/step - loss: 0.0783 - accuracy: 0.9583 - val_loss: 0.0505 - val_accuracy: 1.0000\n",
            "Epoch 14/50\n",
            "120/120 [==============================] - 0s 2ms/step - loss: 0.0746 - accuracy: 0.9583 - val_loss: 0.0464 - val_accuracy: 1.0000\n",
            "Epoch 15/50\n",
            "120/120 [==============================] - 0s 2ms/step - loss: 0.0735 - accuracy: 0.9667 - val_loss: 0.0445 - val_accuracy: 1.0000\n",
            "Epoch 16/50\n",
            "120/120 [==============================] - 0s 2ms/step - loss: 0.0705 - accuracy: 0.9667 - val_loss: 0.0431 - val_accuracy: 1.0000\n",
            "Epoch 17/50\n",
            "120/120 [==============================] - 0s 2ms/step - loss: 0.0710 - accuracy: 0.9667 - val_loss: 0.0394 - val_accuracy: 1.0000\n",
            "Epoch 18/50\n",
            "120/120 [==============================] - 0s 2ms/step - loss: 0.0669 - accuracy: 0.9750 - val_loss: 0.0428 - val_accuracy: 1.0000\n",
            "Epoch 19/50\n",
            "120/120 [==============================] - 0s 2ms/step - loss: 0.0684 - accuracy: 0.9750 - val_loss: 0.0397 - val_accuracy: 1.0000\n",
            "Epoch 20/50\n",
            "120/120 [==============================] - 0s 2ms/step - loss: 0.0665 - accuracy: 0.9750 - val_loss: 0.0375 - val_accuracy: 1.0000\n",
            "Epoch 21/50\n",
            "120/120 [==============================] - 0s 2ms/step - loss: 0.0667 - accuracy: 0.9667 - val_loss: 0.0364 - val_accuracy: 1.0000\n",
            "Epoch 22/50\n",
            "120/120 [==============================] - 0s 3ms/step - loss: 0.0657 - accuracy: 0.9667 - val_loss: 0.0364 - val_accuracy: 1.0000\n",
            "Epoch 23/50\n",
            "120/120 [==============================] - 0s 3ms/step - loss: 0.0613 - accuracy: 0.9833 - val_loss: 0.0347 - val_accuracy: 1.0000\n",
            "Epoch 24/50\n",
            "120/120 [==============================] - 0s 3ms/step - loss: 0.0614 - accuracy: 0.9750 - val_loss: 0.0365 - val_accuracy: 1.0000\n",
            "Epoch 25/50\n",
            "120/120 [==============================] - 0s 3ms/step - loss: 0.0664 - accuracy: 0.9750 - val_loss: 0.0361 - val_accuracy: 1.0000\n",
            "Epoch 26/50\n",
            "120/120 [==============================] - 0s 3ms/step - loss: 0.0634 - accuracy: 0.9667 - val_loss: 0.0364 - val_accuracy: 1.0000\n",
            "Epoch 27/50\n",
            "120/120 [==============================] - 0s 3ms/step - loss: 0.0581 - accuracy: 0.9917 - val_loss: 0.0454 - val_accuracy: 0.9667\n",
            "Epoch 28/50\n",
            "120/120 [==============================] - 0s 3ms/step - loss: 0.0621 - accuracy: 0.9750 - val_loss: 0.0326 - val_accuracy: 1.0000\n",
            "Epoch 29/50\n",
            "120/120 [==============================] - 0s 3ms/step - loss: 0.0573 - accuracy: 0.9750 - val_loss: 0.0318 - val_accuracy: 1.0000\n",
            "Epoch 30/50\n",
            "120/120 [==============================] - 0s 3ms/step - loss: 0.0587 - accuracy: 0.9667 - val_loss: 0.0294 - val_accuracy: 1.0000\n",
            "Epoch 31/50\n",
            "120/120 [==============================] - 0s 3ms/step - loss: 0.0615 - accuracy: 0.9750 - val_loss: 0.0372 - val_accuracy: 1.0000\n",
            "Epoch 32/50\n",
            "120/120 [==============================] - 0s 2ms/step - loss: 0.0573 - accuracy: 0.9750 - val_loss: 0.0336 - val_accuracy: 1.0000\n",
            "Epoch 33/50\n",
            "120/120 [==============================] - 0s 2ms/step - loss: 0.0568 - accuracy: 0.9750 - val_loss: 0.0349 - val_accuracy: 1.0000\n",
            "Epoch 34/50\n",
            "120/120 [==============================] - 0s 2ms/step - loss: 0.0548 - accuracy: 0.9750 - val_loss: 0.0343 - val_accuracy: 1.0000\n",
            "Epoch 35/50\n",
            "120/120 [==============================] - 0s 2ms/step - loss: 0.0655 - accuracy: 0.9833 - val_loss: 0.0285 - val_accuracy: 1.0000\n",
            "Epoch 36/50\n",
            "120/120 [==============================] - 0s 2ms/step - loss: 0.0578 - accuracy: 0.9750 - val_loss: 0.0277 - val_accuracy: 1.0000\n",
            "Epoch 37/50\n",
            "120/120 [==============================] - 0s 2ms/step - loss: 0.0563 - accuracy: 0.9667 - val_loss: 0.0268 - val_accuracy: 1.0000\n",
            "Epoch 38/50\n",
            "120/120 [==============================] - 0s 2ms/step - loss: 0.0556 - accuracy: 0.9833 - val_loss: 0.0251 - val_accuracy: 1.0000\n",
            "Epoch 39/50\n",
            "120/120 [==============================] - 0s 2ms/step - loss: 0.0526 - accuracy: 0.9833 - val_loss: 0.0281 - val_accuracy: 1.0000\n",
            "Epoch 40/50\n",
            "120/120 [==============================] - 0s 2ms/step - loss: 0.0599 - accuracy: 0.9750 - val_loss: 0.0297 - val_accuracy: 1.0000\n",
            "Epoch 41/50\n",
            "120/120 [==============================] - 0s 2ms/step - loss: 0.0539 - accuracy: 0.9750 - val_loss: 0.0277 - val_accuracy: 1.0000\n",
            "Epoch 42/50\n",
            "120/120 [==============================] - 0s 2ms/step - loss: 0.0524 - accuracy: 0.9750 - val_loss: 0.0261 - val_accuracy: 1.0000\n",
            "Epoch 43/50\n",
            "120/120 [==============================] - 0s 2ms/step - loss: 0.0511 - accuracy: 0.9833 - val_loss: 0.0312 - val_accuracy: 1.0000\n",
            "Epoch 44/50\n",
            "120/120 [==============================] - 0s 2ms/step - loss: 0.0567 - accuracy: 0.9667 - val_loss: 0.0266 - val_accuracy: 1.0000\n",
            "Epoch 45/50\n",
            "120/120 [==============================] - 0s 2ms/step - loss: 0.0531 - accuracy: 0.9750 - val_loss: 0.0278 - val_accuracy: 1.0000\n",
            "Epoch 46/50\n",
            "120/120 [==============================] - 0s 2ms/step - loss: 0.0479 - accuracy: 0.9750 - val_loss: 0.0270 - val_accuracy: 1.0000\n",
            "Epoch 47/50\n",
            "120/120 [==============================] - 0s 2ms/step - loss: 0.0559 - accuracy: 0.9833 - val_loss: 0.0230 - val_accuracy: 1.0000\n",
            "Epoch 48/50\n",
            "120/120 [==============================] - 0s 3ms/step - loss: 0.0527 - accuracy: 0.9833 - val_loss: 0.0258 - val_accuracy: 1.0000\n",
            "Epoch 49/50\n",
            "120/120 [==============================] - 0s 2ms/step - loss: 0.0524 - accuracy: 0.9750 - val_loss: 0.0268 - val_accuracy: 1.0000\n",
            "Epoch 50/50\n",
            "120/120 [==============================] - 0s 2ms/step - loss: 0.0510 - accuracy: 0.9750 - val_loss: 0.0238 - val_accuracy: 1.0000\n",
            "Training accuracy with stochastic gradient descent: 0.9833333492279053\n",
            "Testing accuracy with stochastic gradient descent: 1.0\n"
          ]
        }
      ]
    },
    {
      "cell_type": "markdown",
      "source": [
        "ANS3:\n",
        "\n",
        "Batch Gradient Descent (BGD): In BGD, the entire dataset is used to compute the gradient of the cost function, and the model parameters are updated once per iteration."
      ],
      "metadata": {
        "id": "O6M3mQnUUI3m"
      }
    },
    {
      "cell_type": "code",
      "source": [
        "import numpy as np\n",
        "\n",
        "# Assume cost_function and gradient_function are defined\n",
        "# theta is the parameter vector\n",
        "\n",
        "def batch_gradient_descent(X, y, theta, learning_rate, num_iterations):\n",
        "    m = len(y)\n",
        "\n",
        "    for _ in range(num_iterations):\n",
        "        gradient = gradient_function(X, y, theta)\n",
        "        theta = theta - learning_rate * gradient / m\n",
        "\n",
        "    return theta\n"
      ],
      "metadata": {
        "id": "wWWNzU-cUKYr"
      },
      "execution_count": 17,
      "outputs": []
    },
    {
      "cell_type": "markdown",
      "source": [
        "\n",
        "Stochastic Gradient Descent (SGD): In SGD, only one training example is used to compute the gradient and update the model parameters in each iteration."
      ],
      "metadata": {
        "id": "eUpiw8Y7Ua9b"
      }
    },
    {
      "cell_type": "code",
      "source": [
        "import numpy as np\n",
        "\n",
        "# Assume cost_function and gradient_function are defined\n",
        "# theta is the parameter vector\n",
        "\n",
        "def stochastic_gradient_descent(X, y, theta, learning_rate, num_iterations):\n",
        "    m = len(y)\n",
        "\n",
        "    for _ in range(num_iterations):\n",
        "        for i in range(m):\n",
        "            gradient = gradient_function(X[i], y[i], theta)\n",
        "            theta = theta - learning_rate * gradient\n",
        "\n",
        "    return theta"
      ],
      "metadata": {
        "id": "K3xX-H-jUccm"
      },
      "execution_count": 18,
      "outputs": []
    },
    {
      "cell_type": "markdown",
      "source": [
        "Mini-Batch Gradient Descent (MBGD): In MBGD, a batch of training examples (mini-batch) is used to compute the gradient and update the model parameters in each iteration."
      ],
      "metadata": {
        "id": "fFXBJ5NnUmSK"
      }
    },
    {
      "cell_type": "code",
      "source": [
        "import numpy as np\n",
        "\n",
        "# Assume cost_function and gradient_function are defined\n",
        "# theta is the parameter vector\n",
        "\n",
        "def mini_batch_gradient_descent(X, y, theta, learning_rate, num_iterations, batch_size):\n",
        "    m = len(y)\n",
        "\n",
        "    for _ in range(num_iterations):\n",
        "        for i in range(0, m, batch_size):\n",
        "            X_batch = X[i:i+batch_size]\n",
        "            y_batch = y[i:i+batch_size]\n",
        "            gradient = gradient_function(X_batch, y_batch, theta)\n",
        "            theta = theta - learning_rate * gradient / batch_size\n",
        "\n",
        "    return theta"
      ],
      "metadata": {
        "id": "Bx3rXrRzUnqV"
      },
      "execution_count": 19,
      "outputs": []
    }
  ]
}